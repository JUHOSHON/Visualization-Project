{
 "cells": [
  {
   "cell_type": "code",
   "execution_count": 156,
   "id": "e01612ed",
   "metadata": {},
   "outputs": [
    {
     "data": {
      "text/html": [
       "<div>\n",
       "<style scoped>\n",
       "    .dataframe tbody tr th:only-of-type {\n",
       "        vertical-align: middle;\n",
       "    }\n",
       "\n",
       "    .dataframe tbody tr th {\n",
       "        vertical-align: top;\n",
       "    }\n",
       "\n",
       "    .dataframe thead th {\n",
       "        text-align: right;\n",
       "    }\n",
       "</style>\n",
       "<table border=\"1\" class=\"dataframe\">\n",
       "  <thead>\n",
       "    <tr style=\"text-align: right;\">\n",
       "      <th></th>\n",
       "      <th>Column1</th>\n",
       "      <th>확진일</th>\n",
       "      <th>확진자수</th>\n",
       "    </tr>\n",
       "  </thead>\n",
       "  <tbody>\n",
       "    <tr>\n",
       "      <th>557</th>\n",
       "      <td>557</td>\n",
       "      <td>2021-09-04</td>\n",
       "      <td>508</td>\n",
       "    </tr>\n",
       "    <tr>\n",
       "      <th>556</th>\n",
       "      <td>556</td>\n",
       "      <td>2021-09-03</td>\n",
       "      <td>566</td>\n",
       "    </tr>\n",
       "    <tr>\n",
       "      <th>555</th>\n",
       "      <td>555</td>\n",
       "      <td>2021-09-02</td>\n",
       "      <td>542</td>\n",
       "    </tr>\n",
       "    <tr>\n",
       "      <th>554</th>\n",
       "      <td>554</td>\n",
       "      <td>2021-09-01</td>\n",
       "      <td>559</td>\n",
       "    </tr>\n",
       "    <tr>\n",
       "      <th>553</th>\n",
       "      <td>553</td>\n",
       "      <td>2021-08-31</td>\n",
       "      <td>665</td>\n",
       "    </tr>\n",
       "  </tbody>\n",
       "</table>\n",
       "</div>"
      ],
      "text/plain": [
       "     Column1         확진일  확진자수\n",
       "557      557  2021-09-04   508\n",
       "556      556  2021-09-03   566\n",
       "555      555  2021-09-02   542\n",
       "554      554  2021-09-01   559\n",
       "553      553  2021-08-31   665"
      ]
     },
     "execution_count": 156,
     "metadata": {},
     "output_type": "execute_result"
    }
   ],
   "source": [
    "import pandas as pd\n",
    "import numpy as np\n",
    "\n",
    "p_table = pd.read_csv('C:/myPyCode/01_일별코로나확진자수.csv', encoding = 'euc-kr')\n",
    "p_table = p_table.sort_values('확진일', ascending = False)\n",
    "p_table.head()"
   ]
  },
  {
   "cell_type": "code",
   "execution_count": 54,
   "id": "f78e17f2",
   "metadata": {},
   "outputs": [],
   "source": [
    "p_table = p_table[0:96]\n",
    "p_table = p_table.drop(['Column1'],axis = 1)"
   ]
  },
  {
   "cell_type": "code",
   "execution_count": 55,
   "id": "b65403a2",
   "metadata": {
    "scrolled": true
   },
   "outputs": [
    {
     "data": {
      "text/html": [
       "<div>\n",
       "<style scoped>\n",
       "    .dataframe tbody tr th:only-of-type {\n",
       "        vertical-align: middle;\n",
       "    }\n",
       "\n",
       "    .dataframe tbody tr th {\n",
       "        vertical-align: top;\n",
       "    }\n",
       "\n",
       "    .dataframe thead th {\n",
       "        text-align: right;\n",
       "    }\n",
       "</style>\n",
       "<table border=\"1\" class=\"dataframe\">\n",
       "  <thead>\n",
       "    <tr style=\"text-align: right;\">\n",
       "      <th></th>\n",
       "      <th>index</th>\n",
       "      <th>확진일</th>\n",
       "      <th>확진자수</th>\n",
       "    </tr>\n",
       "  </thead>\n",
       "  <tbody>\n",
       "    <tr>\n",
       "      <th>93</th>\n",
       "      <td>555</td>\n",
       "      <td>2021-09-02</td>\n",
       "      <td>542</td>\n",
       "    </tr>\n",
       "    <tr>\n",
       "      <th>94</th>\n",
       "      <td>556</td>\n",
       "      <td>2021-09-03</td>\n",
       "      <td>566</td>\n",
       "    </tr>\n",
       "    <tr>\n",
       "      <th>95</th>\n",
       "      <td>557</td>\n",
       "      <td>2021-09-04</td>\n",
       "      <td>508</td>\n",
       "    </tr>\n",
       "  </tbody>\n",
       "</table>\n",
       "</div>"
      ],
      "text/plain": [
       "    index         확진일  확진자수\n",
       "93    555  2021-09-02   542\n",
       "94    556  2021-09-03   566\n",
       "95    557  2021-09-04   508"
      ]
     },
     "execution_count": 55,
     "metadata": {},
     "output_type": "execute_result"
    }
   ],
   "source": [
    "p_table = p_table.sort_values('확진일', ascending = True)\n",
    "p_table = p_table.reset_index()\n",
    "p_table.tail(3)"
   ]
  },
  {
   "cell_type": "code",
   "execution_count": 56,
   "id": "5713768b",
   "metadata": {},
   "outputs": [
    {
     "data": {
      "text/html": [
       "<div>\n",
       "<style scoped>\n",
       "    .dataframe tbody tr th:only-of-type {\n",
       "        vertical-align: middle;\n",
       "    }\n",
       "\n",
       "    .dataframe tbody tr th {\n",
       "        vertical-align: top;\n",
       "    }\n",
       "\n",
       "    .dataframe thead th {\n",
       "        text-align: right;\n",
       "    }\n",
       "</style>\n",
       "<table border=\"1\" class=\"dataframe\">\n",
       "  <thead>\n",
       "    <tr style=\"text-align: right;\">\n",
       "      <th></th>\n",
       "      <th>날짜</th>\n",
       "      <th>확진자수</th>\n",
       "    </tr>\n",
       "  </thead>\n",
       "  <tbody>\n",
       "    <tr>\n",
       "      <th>92</th>\n",
       "      <td>2021-09-01</td>\n",
       "      <td>559</td>\n",
       "    </tr>\n",
       "    <tr>\n",
       "      <th>93</th>\n",
       "      <td>2021-09-02</td>\n",
       "      <td>542</td>\n",
       "    </tr>\n",
       "    <tr>\n",
       "      <th>94</th>\n",
       "      <td>2021-09-03</td>\n",
       "      <td>566</td>\n",
       "    </tr>\n",
       "    <tr>\n",
       "      <th>95</th>\n",
       "      <td>2021-09-04</td>\n",
       "      <td>508</td>\n",
       "    </tr>\n",
       "  </tbody>\n",
       "</table>\n",
       "</div>"
      ],
      "text/plain": [
       "            날짜  확진자수\n",
       "92  2021-09-01   559\n",
       "93  2021-09-02   542\n",
       "94  2021-09-03   566\n",
       "95  2021-09-04   508"
      ]
     },
     "execution_count": 56,
     "metadata": {},
     "output_type": "execute_result"
    }
   ],
   "source": [
    "p_table = p_table.drop(['index'],axis = 1)\n",
    "p_table.columns = ['날짜', '확진자수']\n",
    "p_table.tail(4)"
   ]
  },
  {
   "cell_type": "code",
   "execution_count": null,
   "id": "72d9687c",
   "metadata": {},
   "outputs": [],
   "source": []
  },
  {
   "cell_type": "code",
   "execution_count": 57,
   "id": "c3d89832",
   "metadata": {
    "scrolled": true
   },
   "outputs": [
    {
     "data": {
      "text/html": [
       "<div>\n",
       "<style scoped>\n",
       "    .dataframe tbody tr th:only-of-type {\n",
       "        vertical-align: middle;\n",
       "    }\n",
       "\n",
       "    .dataframe tbody tr th {\n",
       "        vertical-align: top;\n",
       "    }\n",
       "\n",
       "    .dataframe thead th {\n",
       "        text-align: right;\n",
       "    }\n",
       "</style>\n",
       "<table border=\"1\" class=\"dataframe\">\n",
       "  <thead>\n",
       "    <tr style=\"text-align: right;\">\n",
       "      <th></th>\n",
       "      <th>접종일</th>\n",
       "      <th>접종대상자</th>\n",
       "      <th>당일 1차접종자 수</th>\n",
       "      <th>1차접종 누계</th>\n",
       "      <th>1차접종률(%)</th>\n",
       "      <th>당일 2차접종자 수</th>\n",
       "      <th>2차접종 누계</th>\n",
       "      <th>2차접종률(%)</th>\n",
       "    </tr>\n",
       "  </thead>\n",
       "  <tbody>\n",
       "    <tr>\n",
       "      <th>0</th>\n",
       "      <td>2021.09.06</td>\n",
       "      <td>9575355</td>\n",
       "      <td>145248</td>\n",
       "      <td>5704290</td>\n",
       "      <td>59.6</td>\n",
       "      <td>116052</td>\n",
       "      <td>3417102</td>\n",
       "      <td>35.7</td>\n",
       "    </tr>\n",
       "    <tr>\n",
       "      <th>1</th>\n",
       "      <td>2021.09.05</td>\n",
       "      <td>9575355</td>\n",
       "      <td>1388</td>\n",
       "      <td>5558869</td>\n",
       "      <td>58.1</td>\n",
       "      <td>1580</td>\n",
       "      <td>3300807</td>\n",
       "      <td>34.5</td>\n",
       "    </tr>\n",
       "    <tr>\n",
       "      <th>2</th>\n",
       "      <td>2021.09.04</td>\n",
       "      <td>9575355</td>\n",
       "      <td>22326</td>\n",
       "      <td>5557393</td>\n",
       "      <td>58.0</td>\n",
       "      <td>42787</td>\n",
       "      <td>3299212</td>\n",
       "      <td>34.5</td>\n",
       "    </tr>\n",
       "    <tr>\n",
       "      <th>3</th>\n",
       "      <td>2021.09.03</td>\n",
       "      <td>9575355</td>\n",
       "      <td>45045</td>\n",
       "      <td>5534916</td>\n",
       "      <td>57.8</td>\n",
       "      <td>113133</td>\n",
       "      <td>3256323</td>\n",
       "      <td>34.1</td>\n",
       "    </tr>\n",
       "    <tr>\n",
       "      <th>4</th>\n",
       "      <td>2021.09.02</td>\n",
       "      <td>9575355</td>\n",
       "      <td>39320</td>\n",
       "      <td>5489715</td>\n",
       "      <td>57.3</td>\n",
       "      <td>88297</td>\n",
       "      <td>3142962</td>\n",
       "      <td>32.8</td>\n",
       "    </tr>\n",
       "  </tbody>\n",
       "</table>\n",
       "</div>"
      ],
      "text/plain": [
       "          접종일    접종대상자  당일 1차접종자 수  1차접종 누계  1차접종률(%)  당일 2차접종자 수  2차접종 누계  \\\n",
       "0  2021.09.06  9575355      145248  5704290      59.6      116052  3417102   \n",
       "1  2021.09.05  9575355        1388  5558869      58.1        1580  3300807   \n",
       "2  2021.09.04  9575355       22326  5557393      58.0       42787  3299212   \n",
       "3  2021.09.03  9575355       45045  5534916      57.8      113133  3256323   \n",
       "4  2021.09.02  9575355       39320  5489715      57.3       88297  3142962   \n",
       "\n",
       "   2차접종률(%)  \n",
       "0      35.7  \n",
       "1      34.5  \n",
       "2      34.5  \n",
       "3      34.1  \n",
       "4      32.8  "
      ]
     },
     "execution_count": 57,
     "metadata": {},
     "output_type": "execute_result"
    }
   ],
   "source": [
    "# 서울특별시 코로나19 백신 예방접종 현황 데이터를 csv 파일 다운로드(http://data.seoul.go.kr/dataList/OA-20914/S/1/datasetView.do)\n",
    "\n",
    "v_table = pd.read_csv('C:/myPyCode/서울특별시 코로나19 백신 예방접종 현황.csv', encoding='euc-kr')\n",
    "v_table.head()"
   ]
  },
  {
   "cell_type": "code",
   "execution_count": 58,
   "id": "4a907077",
   "metadata": {
    "scrolled": true
   },
   "outputs": [
    {
     "data": {
      "text/html": [
       "<div>\n",
       "<style scoped>\n",
       "    .dataframe tbody tr th:only-of-type {\n",
       "        vertical-align: middle;\n",
       "    }\n",
       "\n",
       "    .dataframe tbody tr th {\n",
       "        vertical-align: top;\n",
       "    }\n",
       "\n",
       "    .dataframe thead th {\n",
       "        text-align: right;\n",
       "    }\n",
       "</style>\n",
       "<table border=\"1\" class=\"dataframe\">\n",
       "  <thead>\n",
       "    <tr style=\"text-align: right;\">\n",
       "      <th></th>\n",
       "      <th>날짜</th>\n",
       "      <th>1차 접종 누계</th>\n",
       "      <th>2차 접종 누계</th>\n",
       "    </tr>\n",
       "  </thead>\n",
       "  <tbody>\n",
       "    <tr>\n",
       "      <th>92</th>\n",
       "      <td>2021.09.01</td>\n",
       "      <td>5450266</td>\n",
       "      <td>3054297</td>\n",
       "    </tr>\n",
       "    <tr>\n",
       "      <th>93</th>\n",
       "      <td>2021.09.02</td>\n",
       "      <td>5489715</td>\n",
       "      <td>3142962</td>\n",
       "    </tr>\n",
       "    <tr>\n",
       "      <th>94</th>\n",
       "      <td>2021.09.03</td>\n",
       "      <td>5534916</td>\n",
       "      <td>3256323</td>\n",
       "    </tr>\n",
       "    <tr>\n",
       "      <th>95</th>\n",
       "      <td>2021.09.04</td>\n",
       "      <td>5557393</td>\n",
       "      <td>3299212</td>\n",
       "    </tr>\n",
       "  </tbody>\n",
       "</table>\n",
       "</div>"
      ],
      "text/plain": [
       "            날짜  1차 접종 누계  2차 접종 누계\n",
       "92  2021.09.01   5450266   3054297\n",
       "93  2021.09.02   5489715   3142962\n",
       "94  2021.09.03   5534916   3256323\n",
       "95  2021.09.04   5557393   3299212"
      ]
     },
     "execution_count": 58,
     "metadata": {},
     "output_type": "execute_result"
    }
   ],
   "source": [
    "v_table = v_table[2:98]\n",
    "v_table = v_table.sort_values('접종일', ascending = True)\n",
    "v_table = v_table.drop(['접종대상자','당일 1차접종자 수','1차접종률(%)','당일 2차접종자 수','2차접종률(%)'],axis = 1)\n",
    "v_table = v_table.reset_index()\n",
    "v_table = v_table.drop(['index'],axis = 1)\n",
    "v_table.columns = ['날짜', '1차 접종 누계', '2차 접종 누계']\n",
    "v_table.tail(4)"
   ]
  },
  {
   "cell_type": "code",
   "execution_count": 64,
   "id": "3811f48f",
   "metadata": {
    "scrolled": true
   },
   "outputs": [
    {
     "name": "stderr",
     "output_type": "stream",
     "text": [
      "<ipython-input-64-e049dac90a58>:1: FutureWarning: The default value of regex will change from True to False in a future version. In addition, single character regular expressions will*not* be treated as literal strings when regex=True.\n",
      "  v_table['날짜'] = v_table['날짜'].str.replace('.','-')\n"
     ]
    },
    {
     "data": {
      "text/html": [
       "<div>\n",
       "<style scoped>\n",
       "    .dataframe tbody tr th:only-of-type {\n",
       "        vertical-align: middle;\n",
       "    }\n",
       "\n",
       "    .dataframe tbody tr th {\n",
       "        vertical-align: top;\n",
       "    }\n",
       "\n",
       "    .dataframe thead th {\n",
       "        text-align: right;\n",
       "    }\n",
       "</style>\n",
       "<table border=\"1\" class=\"dataframe\">\n",
       "  <thead>\n",
       "    <tr style=\"text-align: right;\">\n",
       "      <th></th>\n",
       "      <th>날짜</th>\n",
       "      <th>1차 접종 누계</th>\n",
       "      <th>2차 접종 누계</th>\n",
       "    </tr>\n",
       "  </thead>\n",
       "  <tbody>\n",
       "    <tr>\n",
       "      <th>91</th>\n",
       "      <td>2021-08-31</td>\n",
       "      <td>5415837</td>\n",
       "      <td>2959659</td>\n",
       "    </tr>\n",
       "    <tr>\n",
       "      <th>92</th>\n",
       "      <td>2021-09-01</td>\n",
       "      <td>5450266</td>\n",
       "      <td>3054297</td>\n",
       "    </tr>\n",
       "    <tr>\n",
       "      <th>93</th>\n",
       "      <td>2021-09-02</td>\n",
       "      <td>5489715</td>\n",
       "      <td>3142962</td>\n",
       "    </tr>\n",
       "    <tr>\n",
       "      <th>94</th>\n",
       "      <td>2021-09-03</td>\n",
       "      <td>5534916</td>\n",
       "      <td>3256323</td>\n",
       "    </tr>\n",
       "    <tr>\n",
       "      <th>95</th>\n",
       "      <td>2021-09-04</td>\n",
       "      <td>5557393</td>\n",
       "      <td>3299212</td>\n",
       "    </tr>\n",
       "  </tbody>\n",
       "</table>\n",
       "</div>"
      ],
      "text/plain": [
       "            날짜  1차 접종 누계  2차 접종 누계\n",
       "91  2021-08-31   5415837   2959659\n",
       "92  2021-09-01   5450266   3054297\n",
       "93  2021-09-02   5489715   3142962\n",
       "94  2021-09-03   5534916   3256323\n",
       "95  2021-09-04   5557393   3299212"
      ]
     },
     "execution_count": 64,
     "metadata": {},
     "output_type": "execute_result"
    }
   ],
   "source": [
    "v_table['날짜'] = v_table['날짜'].str.replace('.','-')\n",
    "v_table.tail()"
   ]
  },
  {
   "cell_type": "code",
   "execution_count": null,
   "id": "83523757",
   "metadata": {},
   "outputs": [],
   "source": []
  },
  {
   "cell_type": "code",
   "execution_count": 65,
   "id": "12851c4a",
   "metadata": {
    "scrolled": true
   },
   "outputs": [
    {
     "data": {
      "text/html": [
       "<div>\n",
       "<style scoped>\n",
       "    .dataframe tbody tr th:only-of-type {\n",
       "        vertical-align: middle;\n",
       "    }\n",
       "\n",
       "    .dataframe tbody tr th {\n",
       "        vertical-align: top;\n",
       "    }\n",
       "\n",
       "    .dataframe thead th {\n",
       "        text-align: right;\n",
       "    }\n",
       "</style>\n",
       "<table border=\"1\" class=\"dataframe\">\n",
       "  <thead>\n",
       "    <tr style=\"text-align: right;\">\n",
       "      <th></th>\n",
       "      <th>날짜</th>\n",
       "      <th>확진자수</th>\n",
       "      <th>1차 접종 누계</th>\n",
       "      <th>2차 접종 누계</th>\n",
       "    </tr>\n",
       "  </thead>\n",
       "  <tbody>\n",
       "    <tr>\n",
       "      <th>91</th>\n",
       "      <td>2021-08-31</td>\n",
       "      <td>665</td>\n",
       "      <td>5415837</td>\n",
       "      <td>2959659</td>\n",
       "    </tr>\n",
       "    <tr>\n",
       "      <th>92</th>\n",
       "      <td>2021-09-01</td>\n",
       "      <td>559</td>\n",
       "      <td>5450266</td>\n",
       "      <td>3054297</td>\n",
       "    </tr>\n",
       "    <tr>\n",
       "      <th>93</th>\n",
       "      <td>2021-09-02</td>\n",
       "      <td>542</td>\n",
       "      <td>5489715</td>\n",
       "      <td>3142962</td>\n",
       "    </tr>\n",
       "    <tr>\n",
       "      <th>94</th>\n",
       "      <td>2021-09-03</td>\n",
       "      <td>566</td>\n",
       "      <td>5534916</td>\n",
       "      <td>3256323</td>\n",
       "    </tr>\n",
       "    <tr>\n",
       "      <th>95</th>\n",
       "      <td>2021-09-04</td>\n",
       "      <td>508</td>\n",
       "      <td>5557393</td>\n",
       "      <td>3299212</td>\n",
       "    </tr>\n",
       "  </tbody>\n",
       "</table>\n",
       "</div>"
      ],
      "text/plain": [
       "            날짜  확진자수  1차 접종 누계  2차 접종 누계\n",
       "91  2021-08-31   665   5415837   2959659\n",
       "92  2021-09-01   559   5450266   3054297\n",
       "93  2021-09-02   542   5489715   3142962\n",
       "94  2021-09-03   566   5534916   3256323\n",
       "95  2021-09-04   508   5557393   3299212"
      ]
     },
     "execution_count": 65,
     "metadata": {},
     "output_type": "execute_result"
    }
   ],
   "source": [
    "# 그래프를 그리기 위한 표 합성. 일일 확진자 표와 일일 코로나19 백신 접종자 표를 병합.\n",
    "import pandas as pd\n",
    "new_table = pd.merge(p_table, v_table)\n",
    "new_table.tail()"
   ]
  },
  {
   "cell_type": "code",
   "execution_count": null,
   "id": "99862a42",
   "metadata": {},
   "outputs": [],
   "source": []
  },
  {
   "cell_type": "code",
   "execution_count": 66,
   "id": "cc589766",
   "metadata": {},
   "outputs": [
    {
     "data": {
      "text/plain": [
       "5557393"
      ]
     },
     "execution_count": 66,
     "metadata": {},
     "output_type": "execute_result"
    }
   ],
   "source": [
    "max(new_table['1차 접종 누계'])"
   ]
  },
  {
   "cell_type": "code",
   "execution_count": 67,
   "id": "e1128e90",
   "metadata": {},
   "outputs": [
    {
     "data": {
      "text/plain": [
       "1092306"
      ]
     },
     "execution_count": 67,
     "metadata": {},
     "output_type": "execute_result"
    }
   ],
   "source": [
    "min(new_table['1차 접종 누계'])"
   ]
  },
  {
   "cell_type": "code",
   "execution_count": 68,
   "id": "94ca846d",
   "metadata": {},
   "outputs": [
    {
     "data": {
      "text/plain": [
       "3299212"
      ]
     },
     "execution_count": 68,
     "metadata": {},
     "output_type": "execute_result"
    }
   ],
   "source": [
    "max(new_table['2차 접종 누계'])"
   ]
  },
  {
   "cell_type": "code",
   "execution_count": 69,
   "id": "957bed8d",
   "metadata": {},
   "outputs": [
    {
     "data": {
      "text/plain": [
       "340624"
      ]
     },
     "execution_count": 69,
     "metadata": {},
     "output_type": "execute_result"
    }
   ],
   "source": [
    "min(new_table['2차 접종 누계'])"
   ]
  },
  {
   "cell_type": "code",
   "execution_count": 81,
   "id": "562ac25e",
   "metadata": {},
   "outputs": [
    {
     "data": {
      "text/plain": [
       "122"
      ]
     },
     "execution_count": 81,
     "metadata": {},
     "output_type": "execute_result"
    }
   ],
   "source": [
    "min(new_table['확진자수'])"
   ]
  },
  {
   "cell_type": "code",
   "execution_count": 154,
   "id": "1ed10494",
   "metadata": {
    "scrolled": false
   },
   "outputs": [
    {
     "data": {
      "image/png": "[encoded data removed]",
      "text/plain": [
       "<Figure size 1800x1080 with 3 Axes>"
      ]
     },
     "metadata": {
      "needs_background": "light"
     },
     "output_type": "display_data"
    }
   ],
   "source": [
    "import matplotlib.pyplot as plt\n",
    "\n",
    "# 한글을 쓰면 폰트가 깨지기 때문에 사용할 폰트를 직접 컴퓨터에 있는 폰트로 지정.\n",
    "from matplotlib import font_manager, rc\n",
    "font_path = \"C:/Windows/Fonts/malgun.TTF\" \n",
    "font = font_manager.FontProperties(fname=font_path).get_name()\n",
    "rc('font', family=font)\n",
    "\n",
    "\n",
    "x=[]  # 그래프 x축 명 지정을 위해 표의 값을 리스트로 저장.\n",
    "for i in new_table.index:\n",
    "    x.append(new_table['날짜'].values[i])\n",
    "    \n",
    "y0=[]  # 데이터 값 표기를 위해 데이터 값 리스트로 저장.\n",
    "for i in new_table.index:\n",
    "    y0.append(new_table['확진자수'].values[i])\n",
    "    \n",
    "y1=[]  # 데이터 값 표기를 위해 데이터 값 리스트로 저장.\n",
    "for i in new_table.index:\n",
    "    y1.append(new_table['1차 접종 누계'].values[i])\n",
    "\n",
    "y2=[]  # 데이터 값 표기를 위해 데이터 값 리스트로 저장.\n",
    "for i in new_table.index:\n",
    "    y2.append(new_table['2차 접종 누계'].values[i])\n",
    "\n",
    "# 그래프 전역 설정\n",
    "plt.rcParams['figure.figsize'] = (25, 15)  # 그래프 크기 지정\n",
    "plt.rcParams['font.size'] = 13             # 그래프 전역 폰트 크기 지정\n",
    "\n",
    "fig, ax1 = plt.subplots()  # 여러개의 그래프를 그려야 하기 때문에 \".subplots()\" 메서드 사용.\n",
    "# subplots의 타이틀 메서드인 \".suptitle()\" 사용.\n",
    "fig.suptitle('서울시 일일 코로나19 확진자와 누적 백신 접종자', fontsize=20) \n",
    "ax1.bar(x, y0, color='blue', alpha=0.37, width=0.7, label='확진자') # 막대 그래프를 그리기 위해 \"bar()\" 함수 사용.\n",
    "ax1.set_xlim(-1, 96)  # 그래프 x축 제한 메서드 \"set_xlim()\" 사용 하여 그래프 축 한계 설정.\n",
    "ax1.set_ylim(100, 770)  # 그래프 y축 제한 메서드 \"set_ylim()\" 사용 하여 그래프 축 한계 설정.\n",
    "ax1.set_xlabel('날짜')\n",
    "ax1.set_ylabel('확진자 (명)')\n",
    "ax1.tick_params(axis='x', direction='in', rotation = 90)\n",
    "\n",
    "# 데이터 값 표시를 위하여 \"text()\" 함수 사용. \"text()\" 함수는 text(x좌표, y좌표, 데이터값, 기타 옵션) 형태로 사용.\n",
    "for i, v in enumerate(new_table.index):\n",
    "    ax1.text(i,y0[i]+5, \"%0.0f\" %y0[i]+'명', fontsize=10, color='red', horizontalalignment='center',rotation=75)\n",
    "\n",
    "ax2 = ax1.twinx()\n",
    "ax2.plot(x, y1, '-^', color='orange', markersize=6, linewidth=2, label='코로나19 백신 1차 접종자 누계', alpha=0.7)\n",
    "ax2.set_xlim(-1, 96)\n",
    "ax2.set_ylim(300000, 6500000)\n",
    "#ax2.set_ylabel(r'코로나 19 백신 접종자 누계 (명)')\n",
    "ax2.tick_params(axis='y', direction='in')\n",
    "#for i, v in enumerate(new_table.index):\n",
    "#    ax2.text(i, y1[i]+150000, \"%0.1f\" %y1[i]+'명', fontsize=9, color='orange', rotation=85)  # x 좌표, y 좌표, text\n",
    "\n",
    "ax3 = ax1.twinx()\n",
    "ax3.plot(x, y2, '-D', color='green', markersize=6, linewidth=2, label='코로나19 백신 2차 접종자 누계', alpha=0.6)\n",
    "ax3.set_xlim(-1, 96)\n",
    "ax3.set_ylim(300000, 6500000)\n",
    "ax3.set_ylabel(r'코로나 19 백신 접종자 누계 (명)')\n",
    "ax3.tick_params(axis='y', direction='in')\n",
    "#for i, v in enumerate(new_table.index):\n",
    "#    ax3.text(i, y2[i]+150000, \"%0.1f\" %y2[i]+'명', fontsize=9, color='green', rotation=85)  # x 좌표, y 좌표, text\n",
    "\n",
    "# 세개의 그래프를 그려서 범례도 3개 라서 각각의 위치를 겹치지 않게 지정.\n",
    "ax1.legend(bbox_to_anchor=(1,1))\n",
    "ax2.legend(bbox_to_anchor=(1,0.97))\n",
    "ax3.legend(bbox_to_anchor=(1,0.94))\n",
    "plt.savefig('서울시 일일 코로나19 확진자와 누적 백신 접종자.png', dpi=300)"
   ]
  },
  {
   "cell_type": "code",
   "execution_count": null,
   "id": "aa2d13fa",
   "metadata": {},
   "outputs": [],
   "source": []
  },
  {
   "cell_type": "code",
   "execution_count": null,
   "id": "9db6310f",
   "metadata": {},
   "outputs": [],
   "source": []
  },
  {
   "cell_type": "code",
   "execution_count": 123,
   "id": "37fb52d5",
   "metadata": {},
   "outputs": [],
   "source": [
    "import geopandas as gpd\n",
    "countries = gpd.read_file(gpd.datasets.get_path('naturalearth_lowres'))\n",
    "cities = gpd.read_file(gpd.datasets.get_path('naturalearth_cities'))"
   ]
  },
  {
   "cell_type": "code",
   "execution_count": 124,
   "id": "b37dd51f",
   "metadata": {},
   "outputs": [
    {
     "data": {
      "text/html": [
       "<div>\n",
       "<style scoped>\n",
       "    .dataframe tbody tr th:only-of-type {\n",
       "        vertical-align: middle;\n",
       "    }\n",
       "\n",
       "    .dataframe tbody tr th {\n",
       "        vertical-align: top;\n",
       "    }\n",
       "\n",
       "    .dataframe thead th {\n",
       "        text-align: right;\n",
       "    }\n",
       "</style>\n",
       "<table border=\"1\" class=\"dataframe\">\n",
       "  <thead>\n",
       "    <tr style=\"text-align: right;\">\n",
       "      <th></th>\n",
       "      <th>pop_est</th>\n",
       "      <th>continent</th>\n",
       "      <th>name</th>\n",
       "      <th>iso_a3</th>\n",
       "      <th>gdp_md_est</th>\n",
       "      <th>geometry</th>\n",
       "    </tr>\n",
       "  </thead>\n",
       "  <tbody>\n",
       "    <tr>\n",
       "      <th>0</th>\n",
       "      <td>920938</td>\n",
       "      <td>Oceania</td>\n",
       "      <td>Fiji</td>\n",
       "      <td>FJI</td>\n",
       "      <td>8374.0</td>\n",
       "      <td>MULTIPOLYGON (((180.00000 -16.06713, 180.00000...</td>\n",
       "    </tr>\n",
       "    <tr>\n",
       "      <th>1</th>\n",
       "      <td>53950935</td>\n",
       "      <td>Africa</td>\n",
       "      <td>Tanzania</td>\n",
       "      <td>TZA</td>\n",
       "      <td>150600.0</td>\n",
       "      <td>POLYGON ((33.90371 -0.95000, 34.07262 -1.05982...</td>\n",
       "    </tr>\n",
       "    <tr>\n",
       "      <th>2</th>\n",
       "      <td>603253</td>\n",
       "      <td>Africa</td>\n",
       "      <td>W. Sahara</td>\n",
       "      <td>ESH</td>\n",
       "      <td>906.5</td>\n",
       "      <td>POLYGON ((-8.66559 27.65643, -8.66512 27.58948...</td>\n",
       "    </tr>\n",
       "  </tbody>\n",
       "</table>\n",
       "</div>"
      ],
      "text/plain": [
       "    pop_est continent       name iso_a3  gdp_md_est  \\\n",
       "0    920938   Oceania       Fiji    FJI      8374.0   \n",
       "1  53950935    Africa   Tanzania    TZA    150600.0   \n",
       "2    603253    Africa  W. Sahara    ESH       906.5   \n",
       "\n",
       "                                            geometry  \n",
       "0  MULTIPOLYGON (((180.00000 -16.06713, 180.00000...  \n",
       "1  POLYGON ((33.90371 -0.95000, 34.07262 -1.05982...  \n",
       "2  POLYGON ((-8.66559 27.65643, -8.66512 27.58948...  "
      ]
     },
     "execution_count": 124,
     "metadata": {},
     "output_type": "execute_result"
    }
   ],
   "source": [
    "countries.head(3)"
   ]
  },
  {
   "cell_type": "code",
   "execution_count": 128,
   "id": "6a9f0a3f",
   "metadata": {
    "scrolled": true
   },
   "outputs": [
    {
     "data": {
      "text/html": [
       "<div>\n",
       "<style scoped>\n",
       "    .dataframe tbody tr th:only-of-type {\n",
       "        vertical-align: middle;\n",
       "    }\n",
       "\n",
       "    .dataframe tbody tr th {\n",
       "        vertical-align: top;\n",
       "    }\n",
       "\n",
       "    .dataframe thead th {\n",
       "        text-align: right;\n",
       "    }\n",
       "</style>\n",
       "<table border=\"1\" class=\"dataframe\">\n",
       "  <thead>\n",
       "    <tr style=\"text-align: right;\">\n",
       "      <th></th>\n",
       "      <th>name</th>\n",
       "      <th>geometry</th>\n",
       "    </tr>\n",
       "  </thead>\n",
       "  <tbody>\n",
       "    <tr>\n",
       "      <th>199</th>\n",
       "      <td>Paris</td>\n",
       "      <td>POINT (2.33139 48.86864)</td>\n",
       "    </tr>\n",
       "    <tr>\n",
       "      <th>200</th>\n",
       "      <td>Santiago</td>\n",
       "      <td>POINT (-70.66899 -33.44807)</td>\n",
       "    </tr>\n",
       "    <tr>\n",
       "      <th>201</th>\n",
       "      <td>Singapore</td>\n",
       "      <td>POINT (103.85387 1.29498)</td>\n",
       "    </tr>\n",
       "  </tbody>\n",
       "</table>\n",
       "</div>"
      ],
      "text/plain": [
       "          name                     geometry\n",
       "199      Paris     POINT (2.33139 48.86864)\n",
       "200   Santiago  POINT (-70.66899 -33.44807)\n",
       "201  Singapore    POINT (103.85387 1.29498)"
      ]
     },
     "execution_count": 128,
     "metadata": {},
     "output_type": "execute_result"
    }
   ],
   "source": [
    "cities.tail(3)"
   ]
  },
  {
   "cell_type": "code",
   "execution_count": 136,
   "id": "a7c9655f",
   "metadata": {},
   "outputs": [
    {
     "data": {
      "text/html": [
       "<div>\n",
       "<style scoped>\n",
       "    .dataframe tbody tr th:only-of-type {\n",
       "        vertical-align: middle;\n",
       "    }\n",
       "\n",
       "    .dataframe tbody tr th {\n",
       "        vertical-align: top;\n",
       "    }\n",
       "\n",
       "    .dataframe thead th {\n",
       "        text-align: right;\n",
       "    }\n",
       "</style>\n",
       "<table border=\"1\" class=\"dataframe\">\n",
       "  <thead>\n",
       "    <tr style=\"text-align: right;\">\n",
       "      <th></th>\n",
       "      <th>name</th>\n",
       "      <th>geometry</th>\n",
       "    </tr>\n",
       "  </thead>\n",
       "  <tbody>\n",
       "    <tr>\n",
       "      <th>171</th>\n",
       "      <td>Johannesburg</td>\n",
       "      <td>POINT (28.02806 -26.16810)</td>\n",
       "    </tr>\n",
       "    <tr>\n",
       "      <th>172</th>\n",
       "      <td>Amsterdam</td>\n",
       "      <td>POINT (4.91469 52.35191)</td>\n",
       "    </tr>\n",
       "    <tr>\n",
       "      <th>173</th>\n",
       "      <td>Seoul</td>\n",
       "      <td>POINT (126.99779 37.56829)</td>\n",
       "    </tr>\n",
       "    <tr>\n",
       "      <th>174</th>\n",
       "      <td>Manila</td>\n",
       "      <td>POINT (120.98027 14.60610)</td>\n",
       "    </tr>\n",
       "    <tr>\n",
       "      <th>175</th>\n",
       "      <td>Berlin</td>\n",
       "      <td>POINT (13.39960 52.52376)</td>\n",
       "    </tr>\n",
       "    <tr>\n",
       "      <th>176</th>\n",
       "      <td>Kinshasa</td>\n",
       "      <td>POINT (15.31303 -4.32778)</td>\n",
       "    </tr>\n",
       "    <tr>\n",
       "      <th>177</th>\n",
       "      <td>New Delhi</td>\n",
       "      <td>POINT (77.19998 28.60002)</td>\n",
       "    </tr>\n",
       "    <tr>\n",
       "      <th>178</th>\n",
       "      <td>Athens</td>\n",
       "      <td>POINT (23.73138 37.98527)</td>\n",
       "    </tr>\n",
       "    <tr>\n",
       "      <th>179</th>\n",
       "      <td>Baghdad</td>\n",
       "      <td>POINT (44.39192 33.34059)</td>\n",
       "    </tr>\n",
       "    <tr>\n",
       "      <th>180</th>\n",
       "      <td>Addis Ababa</td>\n",
       "      <td>POINT (38.69806 9.03526)</td>\n",
       "    </tr>\n",
       "    <tr>\n",
       "      <th>181</th>\n",
       "      <td>Tehran</td>\n",
       "      <td>POINT (51.42240 35.67389)</td>\n",
       "    </tr>\n",
       "    <tr>\n",
       "      <th>182</th>\n",
       "      <td>Buenos Aires</td>\n",
       "      <td>POINT (-58.39948 -34.60056)</td>\n",
       "    </tr>\n",
       "    <tr>\n",
       "      <th>183</th>\n",
       "      <td>Kabul</td>\n",
       "      <td>POINT (69.18131 34.51864)</td>\n",
       "    </tr>\n",
       "    <tr>\n",
       "      <th>184</th>\n",
       "      <td>Vienna</td>\n",
       "      <td>POINT (16.36469 48.20196)</td>\n",
       "    </tr>\n",
       "    <tr>\n",
       "      <th>185</th>\n",
       "      <td>Taipei</td>\n",
       "      <td>POINT (121.56833 25.03583)</td>\n",
       "    </tr>\n",
       "    <tr>\n",
       "      <th>186</th>\n",
       "      <td>Washington, D.C.</td>\n",
       "      <td>POINT (-77.01136 38.90150)</td>\n",
       "    </tr>\n",
       "    <tr>\n",
       "      <th>187</th>\n",
       "      <td>London</td>\n",
       "      <td>POINT (-0.11867 51.50194)</td>\n",
       "    </tr>\n",
       "  </tbody>\n",
       "</table>\n",
       "</div>"
      ],
      "text/plain": [
       "                 name                     geometry\n",
       "171      Johannesburg   POINT (28.02806 -26.16810)\n",
       "172         Amsterdam     POINT (4.91469 52.35191)\n",
       "173             Seoul   POINT (126.99779 37.56829)\n",
       "174            Manila   POINT (120.98027 14.60610)\n",
       "175            Berlin    POINT (13.39960 52.52376)\n",
       "176          Kinshasa    POINT (15.31303 -4.32778)\n",
       "177         New Delhi    POINT (77.19998 28.60002)\n",
       "178            Athens    POINT (23.73138 37.98527)\n",
       "179           Baghdad    POINT (44.39192 33.34059)\n",
       "180       Addis Ababa     POINT (38.69806 9.03526)\n",
       "181            Tehran    POINT (51.42240 35.67389)\n",
       "182      Buenos Aires  POINT (-58.39948 -34.60056)\n",
       "183             Kabul    POINT (69.18131 34.51864)\n",
       "184            Vienna    POINT (16.36469 48.20196)\n",
       "185            Taipei   POINT (121.56833 25.03583)\n",
       "186  Washington, D.C.   POINT (-77.01136 38.90150)\n",
       "187            London    POINT (-0.11867 51.50194)"
      ]
     },
     "execution_count": 136,
     "metadata": {},
     "output_type": "execute_result"
    }
   ],
   "source": [
    "cities[171:188]"
   ]
  },
  {
   "cell_type": "code",
   "execution_count": null,
   "id": "9af20184",
   "metadata": {},
   "outputs": [],
   "source": []
  }
 ],
 "metadata": {
  "kernelspec": {
   "display_name": "Python 3",
   "language": "python",
   "name": "python3"
  },
  "language_info": {
   "codemirror_mode": {
    "name": "ipython",
    "version": 3
   },
   "file_extension": ".py",
   "mimetype": "text/x-python",
   "name": "python",
   "nbconvert_exporter": "python",
   "pygments_lexer": "ipython3",
   "version": "3.8.8"
  }
 },
 "nbformat": 4,
 "nbformat_minor": 5
}
